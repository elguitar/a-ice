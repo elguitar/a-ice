{
  "nbformat": 4,
  "nbformat_minor": 0,
  "metadata": {
    "colab": {
      "name": "preprocess-data.ipynb",
      "provenance": [],
      "authorship_tag": "ABX9TyPjs4cQ12rH9hY0M9X+at9U",
      "include_colab_link": true
    },
    "kernelspec": {
      "name": "python3",
      "display_name": "Python 3"
    },
    "language_info": {
      "name": "python"
    }
  },
  "cells": [
    {
      "cell_type": "markdown",
      "metadata": {
        "id": "view-in-github",
        "colab_type": "text"
      },
      "source": [
        "<a href=\"https://colab.research.google.com/github/solita/a-ice/blob/main/notebooks/preprocess_data.ipynb\" target=\"_parent\"><img src=\"https://colab.research.google.com/assets/colab-badge.svg\" alt=\"Open In Colab\"/></a>"
      ]
    },
    {
      "cell_type": "markdown",
      "metadata": {
        "id": "bq8DL6UBaZt4"
      },
      "source": [
        "#WINTER 2018, 1 week\n"
      ]
    },
    {
      "cell_type": "code",
      "metadata": {
        "colab": {
          "base_uri": "https://localhost:8080/"
        },
        "id": "UQoRedRFahRe",
        "outputId": "b87aa3c7-d349-49fe-d3ef-c2488ae5362c"
      },
      "source": [
        "import pandas as pd\n",
        "\n",
        "from google.colab import drive\n",
        "drive.mount('/content/drive')"
      ],
      "execution_count": 1,
      "outputs": [
        {
          "output_type": "stream",
          "text": [
            "Mounted at /content/drive\n"
          ],
          "name": "stdout"
        }
      ]
    },
    {
      "cell_type": "code",
      "metadata": {
        "id": "3KdShGwBa0OF"
      },
      "source": [
        "ais_2018_df = pd.read_csv('/content/drive/Shareddrives/A-ICE/Data/AIS/ais-observations-1-week-20180315.csv')"
      ],
      "execution_count": 2,
      "outputs": []
    },
    {
      "cell_type": "code",
      "metadata": {
        "colab": {
          "base_uri": "https://localhost:8080/",
          "height": 204
        },
        "id": "TjPFz7Zia77F",
        "outputId": "dd5cb67d-92c7-4d47-f365-388f22075a93"
      },
      "source": [
        "ais_2018_df.head()"
      ],
      "execution_count": 3,
      "outputs": [
        {
          "output_type": "execute_result",
          "data": {
            "text/html": [
              "<div>\n",
              "<style scoped>\n",
              "    .dataframe tbody tr th:only-of-type {\n",
              "        vertical-align: middle;\n",
              "    }\n",
              "\n",
              "    .dataframe tbody tr th {\n",
              "        vertical-align: top;\n",
              "    }\n",
              "\n",
              "    .dataframe thead th {\n",
              "        text-align: right;\n",
              "    }\n",
              "</style>\n",
              "<table border=\"1\" class=\"dataframe\">\n",
              "  <thead>\n",
              "    <tr style=\"text-align: right;\">\n",
              "      <th></th>\n",
              "      <th>timestamp</th>\n",
              "      <th>mmsi</th>\n",
              "      <th>lon</th>\n",
              "      <th>lat</th>\n",
              "      <th>sog</th>\n",
              "      <th>cog</th>\n",
              "      <th>heading</th>\n",
              "    </tr>\n",
              "  </thead>\n",
              "  <tbody>\n",
              "    <tr>\n",
              "      <th>0</th>\n",
              "      <td>2018-03-20 10:12:46.014</td>\n",
              "      <td>230068740</td>\n",
              "      <td>28.944513</td>\n",
              "      <td>61.844122</td>\n",
              "      <td>0.0</td>\n",
              "      <td>338.4</td>\n",
              "      <td>177</td>\n",
              "    </tr>\n",
              "    <tr>\n",
              "      <th>1</th>\n",
              "      <td>2018-03-20 10:12:46.016</td>\n",
              "      <td>230252000</td>\n",
              "      <td>22.699115</td>\n",
              "      <td>64.149142</td>\n",
              "      <td>14.1</td>\n",
              "      <td>335.2</td>\n",
              "      <td>335</td>\n",
              "    </tr>\n",
              "    <tr>\n",
              "      <th>2</th>\n",
              "      <td>2018-03-20 10:12:46.021</td>\n",
              "      <td>230071310</td>\n",
              "      <td>27.696937</td>\n",
              "      <td>62.891782</td>\n",
              "      <td>0.0</td>\n",
              "      <td>279.6</td>\n",
              "      <td>511</td>\n",
              "    </tr>\n",
              "    <tr>\n",
              "      <th>3</th>\n",
              "      <td>2018-03-20 10:12:46.023</td>\n",
              "      <td>230938570</td>\n",
              "      <td>21.217443</td>\n",
              "      <td>62.358643</td>\n",
              "      <td>0.0</td>\n",
              "      <td>188.6</td>\n",
              "      <td>207</td>\n",
              "    </tr>\n",
              "    <tr>\n",
              "      <th>4</th>\n",
              "      <td>2018-03-20 10:12:46.024</td>\n",
              "      <td>265182000</td>\n",
              "      <td>22.251873</td>\n",
              "      <td>64.742827</td>\n",
              "      <td>8.7</td>\n",
              "      <td>74.9</td>\n",
              "      <td>74</td>\n",
              "    </tr>\n",
              "  </tbody>\n",
              "</table>\n",
              "</div>"
            ],
            "text/plain": [
              "                 timestamp       mmsi        lon  ...   sog    cog  heading\n",
              "0  2018-03-20 10:12:46.014  230068740  28.944513  ...   0.0  338.4      177\n",
              "1  2018-03-20 10:12:46.016  230252000  22.699115  ...  14.1  335.2      335\n",
              "2  2018-03-20 10:12:46.021  230071310  27.696937  ...   0.0  279.6      511\n",
              "3  2018-03-20 10:12:46.023  230938570  21.217443  ...   0.0  188.6      207\n",
              "4  2018-03-20 10:12:46.024  265182000  22.251873  ...   8.7   74.9       74\n",
              "\n",
              "[5 rows x 7 columns]"
            ]
          },
          "metadata": {
            "tags": []
          },
          "execution_count": 3
        }
      ]
    },
    {
      "cell_type": "code",
      "metadata": {
        "colab": {
          "base_uri": "https://localhost:8080/",
          "height": 142
        },
        "id": "WOwcDBABbG6r",
        "outputId": "8915ccfd-8fbb-4b9d-8162-0508be8f5610"
      },
      "source": [
        "df = ais_2018_df.head(3)[['lon', 'lat']]\n",
        "display(df)"
      ],
      "execution_count": 4,
      "outputs": [
        {
          "output_type": "display_data",
          "data": {
            "text/html": [
              "<div>\n",
              "<style scoped>\n",
              "    .dataframe tbody tr th:only-of-type {\n",
              "        vertical-align: middle;\n",
              "    }\n",
              "\n",
              "    .dataframe tbody tr th {\n",
              "        vertical-align: top;\n",
              "    }\n",
              "\n",
              "    .dataframe thead th {\n",
              "        text-align: right;\n",
              "    }\n",
              "</style>\n",
              "<table border=\"1\" class=\"dataframe\">\n",
              "  <thead>\n",
              "    <tr style=\"text-align: right;\">\n",
              "      <th></th>\n",
              "      <th>lon</th>\n",
              "      <th>lat</th>\n",
              "    </tr>\n",
              "  </thead>\n",
              "  <tbody>\n",
              "    <tr>\n",
              "      <th>0</th>\n",
              "      <td>28.944513</td>\n",
              "      <td>61.844122</td>\n",
              "    </tr>\n",
              "    <tr>\n",
              "      <th>1</th>\n",
              "      <td>22.699115</td>\n",
              "      <td>64.149142</td>\n",
              "    </tr>\n",
              "    <tr>\n",
              "      <th>2</th>\n",
              "      <td>27.696937</td>\n",
              "      <td>62.891782</td>\n",
              "    </tr>\n",
              "  </tbody>\n",
              "</table>\n",
              "</div>"
            ],
            "text/plain": [
              "         lon        lat\n",
              "0  28.944513  61.844122\n",
              "1  22.699115  64.149142\n",
              "2  27.696937  62.891782"
            ]
          },
          "metadata": {
            "tags": []
          }
        }
      ]
    },
    {
      "cell_type": "markdown",
      "metadata": {
        "id": "U3kREAFFlGpd"
      },
      "source": [
        "##Linear regression testing"
      ]
    },
    {
      "cell_type": "code",
      "metadata": {
        "colab": {
          "base_uri": "https://localhost:8080/",
          "height": 174
        },
        "id": "cqf-ezifbYCf",
        "outputId": "f7b07ae6-fedd-40a4-d931-c5faaff296ab"
      },
      "source": [
        "from sklearn.linear_model import LinearRegression\n",
        "m = LinearRegression()\n",
        "\n",
        "train = df.head(2)\n",
        "display(train)\n",
        "\n",
        "test = df.tail(1)\n",
        "display(test)"
      ],
      "execution_count": 5,
      "outputs": [
        {
          "output_type": "display_data",
          "data": {
            "text/html": [
              "<div>\n",
              "<style scoped>\n",
              "    .dataframe tbody tr th:only-of-type {\n",
              "        vertical-align: middle;\n",
              "    }\n",
              "\n",
              "    .dataframe tbody tr th {\n",
              "        vertical-align: top;\n",
              "    }\n",
              "\n",
              "    .dataframe thead th {\n",
              "        text-align: right;\n",
              "    }\n",
              "</style>\n",
              "<table border=\"1\" class=\"dataframe\">\n",
              "  <thead>\n",
              "    <tr style=\"text-align: right;\">\n",
              "      <th></th>\n",
              "      <th>lon</th>\n",
              "      <th>lat</th>\n",
              "    </tr>\n",
              "  </thead>\n",
              "  <tbody>\n",
              "    <tr>\n",
              "      <th>0</th>\n",
              "      <td>28.944513</td>\n",
              "      <td>61.844122</td>\n",
              "    </tr>\n",
              "    <tr>\n",
              "      <th>1</th>\n",
              "      <td>22.699115</td>\n",
              "      <td>64.149142</td>\n",
              "    </tr>\n",
              "  </tbody>\n",
              "</table>\n",
              "</div>"
            ],
            "text/plain": [
              "         lon        lat\n",
              "0  28.944513  61.844122\n",
              "1  22.699115  64.149142"
            ]
          },
          "metadata": {
            "tags": []
          }
        },
        {
          "output_type": "display_data",
          "data": {
            "text/html": [
              "<div>\n",
              "<style scoped>\n",
              "    .dataframe tbody tr th:only-of-type {\n",
              "        vertical-align: middle;\n",
              "    }\n",
              "\n",
              "    .dataframe tbody tr th {\n",
              "        vertical-align: top;\n",
              "    }\n",
              "\n",
              "    .dataframe thead th {\n",
              "        text-align: right;\n",
              "    }\n",
              "</style>\n",
              "<table border=\"1\" class=\"dataframe\">\n",
              "  <thead>\n",
              "    <tr style=\"text-align: right;\">\n",
              "      <th></th>\n",
              "      <th>lon</th>\n",
              "      <th>lat</th>\n",
              "    </tr>\n",
              "  </thead>\n",
              "  <tbody>\n",
              "    <tr>\n",
              "      <th>2</th>\n",
              "      <td>27.696937</td>\n",
              "      <td>62.891782</td>\n",
              "    </tr>\n",
              "  </tbody>\n",
              "</table>\n",
              "</div>"
            ],
            "text/plain": [
              "         lon        lat\n",
              "2  27.696937  62.891782"
            ]
          },
          "metadata": {
            "tags": []
          }
        }
      ]
    },
    {
      "cell_type": "code",
      "metadata": {
        "colab": {
          "base_uri": "https://localhost:8080/"
        },
        "id": "pl4iKXt5bg6f",
        "outputId": "355b9f4b-0a95-45c4-b8f5-acaff98e8fa8"
      },
      "source": [
        "m.fit(train['lon'].values.reshape(-1, 1), train['lat'].values.reshape(-1,1))"
      ],
      "execution_count": 6,
      "outputs": [
        {
          "output_type": "execute_result",
          "data": {
            "text/plain": [
              "LinearRegression(copy_X=True, fit_intercept=True, n_jobs=None, normalize=False)"
            ]
          },
          "metadata": {
            "tags": []
          },
          "execution_count": 6
        }
      ]
    },
    {
      "cell_type": "code",
      "metadata": {
        "colab": {
          "base_uri": "https://localhost:8080/"
        },
        "id": "fybjgiDDbmK3",
        "outputId": "c68bdf4f-7ab4-4440-9102-02888a578c8e"
      },
      "source": [
        "m.predict([[10.049203]])"
      ],
      "execution_count": 7,
      "outputs": [
        {
          "output_type": "execute_result",
          "data": {
            "text/plain": [
              "array([[68.81790715]])"
            ]
          },
          "metadata": {
            "tags": []
          },
          "execution_count": 7
        }
      ]
    }
  ]
}