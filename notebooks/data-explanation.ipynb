{
  "nbformat": 4,
  "nbformat_minor": 0,
  "metadata": {
    "colab": {
      "name": "data-explanation.ipynb",
      "provenance": [],
      "authorship_tag": "ABX9TyOlK5QfFOmi7tJkmWnC0Ahz",
      "include_colab_link": true
    },
    "kernelspec": {
      "name": "python3",
      "display_name": "Python 3"
    },
    "language_info": {
      "name": "python"
    }
  },
  "cells": [
    {
      "cell_type": "markdown",
      "metadata": {
        "id": "view-in-github",
        "colab_type": "text"
      },
      "source": [
        "<a href=\"https://colab.research.google.com/github/solita/a-ice/blob/main/notebooks/data-explanation.ipynb\" target=\"_parent\"><img src=\"https://colab.research.google.com/assets/colab-badge.svg\" alt=\"Open In Colab\"/></a>"
      ]
    },
    {
      "cell_type": "markdown",
      "metadata": {
        "id": "bq8DL6UBaZt4"
      },
      "source": [
        "#DATASET\n",
        "## This dataset is from March, 2018 and it contains historical AIS-data from Baltic sea (14.3.2018 - 21.3.2018)\n",
        "\n"
      ]
    },
    {
      "cell_type": "code",
      "metadata": {
        "colab": {
          "base_uri": "https://localhost:8080/"
        },
        "id": "UQoRedRFahRe",
        "outputId": "e0c91fcd-a9ed-4f27-e57c-811d0092bbcb"
      },
      "source": [
        "import pandas as pd\n",
        "\n",
        "from google.colab import drive\n",
        "drive.mount('/content/drive')"
      ],
      "execution_count": null,
      "outputs": [
        {
          "output_type": "stream",
          "text": [
            "Drive already mounted at /content/drive; to attempt to forcibly remount, call drive.mount(\"/content/drive\", force_remount=True).\n"
          ],
          "name": "stdout"
        }
      ]
    },
    {
      "cell_type": "code",
      "metadata": {
        "id": "3KdShGwBa0OF"
      },
      "source": [
        "ais_2018_df = pd.read_csv('/content/drive/Shareddrives/A-ICE/Data/AIS/ais-observations-1-week-20180315.csv') #use Pandas for reading CSV-file"
      ],
      "execution_count": null,
      "outputs": []
    },
    {
      "cell_type": "code",
      "metadata": {
        "colab": {
          "base_uri": "https://localhost:8080/",
          "height": 204
        },
        "id": "TjPFz7Zia77F",
        "outputId": "b13d701f-0342-4337-832f-33c4454fc4e6"
      },
      "source": [
        "ais_2018_df.head()"
      ],
      "execution_count": null,
      "outputs": [
        {
          "output_type": "execute_result",
          "data": {
            "text/html": [
              "<div>\n",
              "<style scoped>\n",
              "    .dataframe tbody tr th:only-of-type {\n",
              "        vertical-align: middle;\n",
              "    }\n",
              "\n",
              "    .dataframe tbody tr th {\n",
              "        vertical-align: top;\n",
              "    }\n",
              "\n",
              "    .dataframe thead th {\n",
              "        text-align: right;\n",
              "    }\n",
              "</style>\n",
              "<table border=\"1\" class=\"dataframe\">\n",
              "  <thead>\n",
              "    <tr style=\"text-align: right;\">\n",
              "      <th></th>\n",
              "      <th>timestamp</th>\n",
              "      <th>mmsi</th>\n",
              "      <th>lon</th>\n",
              "      <th>lat</th>\n",
              "      <th>sog</th>\n",
              "      <th>cog</th>\n",
              "      <th>heading</th>\n",
              "    </tr>\n",
              "  </thead>\n",
              "  <tbody>\n",
              "    <tr>\n",
              "      <th>0</th>\n",
              "      <td>2018-03-20 10:12:46.014</td>\n",
              "      <td>230068740</td>\n",
              "      <td>28.944513</td>\n",
              "      <td>61.844122</td>\n",
              "      <td>0.0</td>\n",
              "      <td>338.4</td>\n",
              "      <td>177</td>\n",
              "    </tr>\n",
              "    <tr>\n",
              "      <th>1</th>\n",
              "      <td>2018-03-20 10:12:46.016</td>\n",
              "      <td>230252000</td>\n",
              "      <td>22.699115</td>\n",
              "      <td>64.149142</td>\n",
              "      <td>14.1</td>\n",
              "      <td>335.2</td>\n",
              "      <td>335</td>\n",
              "    </tr>\n",
              "    <tr>\n",
              "      <th>2</th>\n",
              "      <td>2018-03-20 10:12:46.021</td>\n",
              "      <td>230071310</td>\n",
              "      <td>27.696937</td>\n",
              "      <td>62.891782</td>\n",
              "      <td>0.0</td>\n",
              "      <td>279.6</td>\n",
              "      <td>511</td>\n",
              "    </tr>\n",
              "    <tr>\n",
              "      <th>3</th>\n",
              "      <td>2018-03-20 10:12:46.023</td>\n",
              "      <td>230938570</td>\n",
              "      <td>21.217443</td>\n",
              "      <td>62.358643</td>\n",
              "      <td>0.0</td>\n",
              "      <td>188.6</td>\n",
              "      <td>207</td>\n",
              "    </tr>\n",
              "    <tr>\n",
              "      <th>4</th>\n",
              "      <td>2018-03-20 10:12:46.024</td>\n",
              "      <td>265182000</td>\n",
              "      <td>22.251873</td>\n",
              "      <td>64.742827</td>\n",
              "      <td>8.7</td>\n",
              "      <td>74.9</td>\n",
              "      <td>74</td>\n",
              "    </tr>\n",
              "  </tbody>\n",
              "</table>\n",
              "</div>"
            ],
            "text/plain": [
              "                 timestamp       mmsi        lon  ...   sog    cog  heading\n",
              "0  2018-03-20 10:12:46.014  230068740  28.944513  ...   0.0  338.4      177\n",
              "1  2018-03-20 10:12:46.016  230252000  22.699115  ...  14.1  335.2      335\n",
              "2  2018-03-20 10:12:46.021  230071310  27.696937  ...   0.0  279.6      511\n",
              "3  2018-03-20 10:12:46.023  230938570  21.217443  ...   0.0  188.6      207\n",
              "4  2018-03-20 10:12:46.024  265182000  22.251873  ...   8.7   74.9       74\n",
              "\n",
              "[5 rows x 7 columns]"
            ]
          },
          "metadata": {
            "tags": []
          },
          "execution_count": 4
        }
      ]
    },
    {
      "cell_type": "markdown",
      "metadata": {
        "id": "JXjcMIq-ZC35"
      },
      "source": [
        "## The dataset contains seven different columns: timestamp, mmsi, lon, lat, sog, cog and heading.\n",
        "\n",
        "\n",
        "*   **MMSI:** (Maritime Mobile Service Identity) Uniquely identifies the vessel. \n",
        "***LON:** Longitude\n",
        "***LAT:** Latitude\n",
        "***SOG:** (Speed Over Ground) Speed of the vessel relative to the surface of the earth. Speed unit: knots. \n",
        "***COG:** (Course Over Ground) Describes the direction of motion with respect to the ground that a vessel has moved relative to the magnetic north pole or geographic north pole\n",
        "***Heading:** Heading describes the direction that a vessel is pointed at any time relative to the magnetic north pole or geographic north pole. The vessel's Heading may differ from the COG due to the effects of wind, Tide and currents.\n",
        "![COG:Heading.jpg](data:image/jpeg;base64,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)\n",
        "\n",
        "  (Plane as an example, same for vessels.)"
      ]
    }
  ]
}