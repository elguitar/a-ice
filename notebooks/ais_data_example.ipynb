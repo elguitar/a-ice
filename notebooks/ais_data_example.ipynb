{
 "cells": [
  {
   "cell_type": "code",
   "execution_count": 26,
   "id": "509ad0cc",
   "metadata": {},
   "outputs": [
    {
     "data": {
      "text/plain": [
       "<module 'datahelper' from '/Users/timole/Documents/Solita/Research/Aiga/Icebreaking/a-ice/modules/datahelper.py'>"
      ]
     },
     "execution_count": 26,
     "metadata": {},
     "output_type": "execute_result"
    }
   ],
   "source": [
    "import pandas as pd\n",
    "\n",
    "import config\n",
    "import datahelper\n",
    "\n",
    "import importlib\n",
    "importlib.reload(config)\n",
    "importlib.reload(datahelper)"
   ]
  },
  {
   "cell_type": "markdown",
   "id": "40c4aced",
   "metadata": {},
   "source": [
    "### Load data"
   ]
  },
  {
   "cell_type": "code",
   "execution_count": 23,
   "id": "43b0c26f",
   "metadata": {},
   "outputs": [
    {
     "name": "stdout",
     "output_type": "stream",
     "text": [
      "Loading data from https://www.dropbox.com/s/e2rpxxtw5d5uu8x/ais-observations-10-minutes-201803191240.csv?dl=1\n"
     ]
    },
    {
     "data": {
      "text/html": [
       "<div>\n",
       "<style scoped>\n",
       "    .dataframe tbody tr th:only-of-type {\n",
       "        vertical-align: middle;\n",
       "    }\n",
       "\n",
       "    .dataframe tbody tr th {\n",
       "        vertical-align: top;\n",
       "    }\n",
       "\n",
       "    .dataframe thead th {\n",
       "        text-align: right;\n",
       "    }\n",
       "</style>\n",
       "<table border=\"1\" class=\"dataframe\">\n",
       "  <thead>\n",
       "    <tr style=\"text-align: right;\">\n",
       "      <th></th>\n",
       "      <th>timestamp</th>\n",
       "      <th>mmsi</th>\n",
       "      <th>lon</th>\n",
       "      <th>lat</th>\n",
       "      <th>sog</th>\n",
       "      <th>cog</th>\n",
       "      <th>heading</th>\n",
       "    </tr>\n",
       "  </thead>\n",
       "  <tbody>\n",
       "    <tr>\n",
       "      <th>0</th>\n",
       "      <td>2018-03-19 12:40:00.830</td>\n",
       "      <td>230251000</td>\n",
       "      <td>23.085252</td>\n",
       "      <td>64.788618</td>\n",
       "      <td>14.8</td>\n",
       "      <td>116.2</td>\n",
       "      <td>113</td>\n",
       "    </tr>\n",
       "    <tr>\n",
       "      <th>1</th>\n",
       "      <td>2018-03-19 12:40:00.831</td>\n",
       "      <td>230282000</td>\n",
       "      <td>21.478390</td>\n",
       "      <td>61.595585</td>\n",
       "      <td>0.0</td>\n",
       "      <td>309.0</td>\n",
       "      <td>283</td>\n",
       "    </tr>\n",
       "    <tr>\n",
       "      <th>2</th>\n",
       "      <td>2018-03-19 12:40:00.843</td>\n",
       "      <td>230991780</td>\n",
       "      <td>21.412683</td>\n",
       "      <td>61.114087</td>\n",
       "      <td>5.5</td>\n",
       "      <td>259.1</td>\n",
       "      <td>269</td>\n",
       "    </tr>\n",
       "  </tbody>\n",
       "</table>\n",
       "</div>"
      ],
      "text/plain": [
       "                timestamp       mmsi        lon        lat   sog    cog  \\\n",
       "0 2018-03-19 12:40:00.830  230251000  23.085252  64.788618  14.8  116.2   \n",
       "1 2018-03-19 12:40:00.831  230282000  21.478390  61.595585   0.0  309.0   \n",
       "2 2018-03-19 12:40:00.843  230991780  21.412683  61.114087   5.5  259.1   \n",
       "\n",
       "   heading  \n",
       "0      113  \n",
       "1      283  \n",
       "2      269  "
      ]
     },
     "metadata": {},
     "output_type": "display_data"
    },
    {
     "data": {
      "text/plain": [
       "(3939, 7)"
      ]
     },
     "metadata": {},
     "output_type": "display_data"
    }
   ],
   "source": [
    "ais_df = dataprep.load_ais_data_fi_10_minutes_2018()\n",
    "display(ais_df.head(3))\n",
    "display(ais_df.shape)"
   ]
  },
  {
   "cell_type": "markdown",
   "id": "735372c8",
   "metadata": {},
   "source": [
    "### Show number of vessels"
   ]
  },
  {
   "cell_type": "code",
   "execution_count": 24,
   "id": "419af871",
   "metadata": {},
   "outputs": [
    {
     "name": "stdout",
     "output_type": "stream",
     "text": [
      "There are 104 vessels in the dataset\n"
     ]
    }
   ],
   "source": [
    "n_of_vessels = ais_df['mmsi'].nunique()\n",
    "print(f'There are {n_of_vessels} vessels in the dataset')"
   ]
  },
  {
   "cell_type": "code",
   "execution_count": null,
   "id": "cb18c9e5",
   "metadata": {},
   "outputs": [],
   "source": []
  }
 ],
 "metadata": {
  "kernelspec": {
   "display_name": "Python 3",
   "language": "python",
   "name": "python3"
  },
  "language_info": {
   "codemirror_mode": {
    "name": "ipython",
    "version": 3
   },
   "file_extension": ".py",
   "mimetype": "text/x-python",
   "name": "python",
   "nbconvert_exporter": "python",
   "pygments_lexer": "ipython3",
   "version": "3.9.1"
  }
 },
 "nbformat": 4,
 "nbformat_minor": 5
}
